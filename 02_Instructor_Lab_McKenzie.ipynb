{
 "cells": [
  {
   "cell_type": "markdown",
   "id": "a04ab6cf-9b6c-4917-ba35-3d1d32633d9a",
   "metadata": {
    "editable": true,
    "slideshow": {
     "slide_type": ""
    },
    "tags": []
   },
   "source": [
    "UM MSBA - BGEN 632\n",
    "\n",
    "# Week 2 Instructor-led Lab\n",
    "\n",
    "In this assignment you will create basic code showcasing the concepts you learned about in the tutorial. \n",
    "\n",
    "**Create Code cells below this Markdown cell to complete the assignment. Write and run your code. To get full points, your submitted notebook must include saved output in addition to written code.** \n",
    "\n",
    "For this assignment, you are not required to create any Markdown cells but you are encouraged to do so to improve the aesthetics and organization of your lab submission. \n",
    "\n",
    "As stated in the syllabus, you <ins>must</ins> include information about your use of online resources to complete assignments, including chatbots like ChatGPT. You can include reference information within your notebooks and/or within separate files pushed to your repo on GitHub. Failure to disclose the use of online resources is a violation of course policy.\n",
    "\n",
    "## Assigning Values\n",
    "\n",
    "For this portion of the assignment, you will create variables in your notebook. You will assign a value to each variable. Please perform the following tasks and create each variable by assigning the following values:\n",
    "\n",
    "* my_int assign it a number between 1 and 20, inclusive.\n",
    "* long_a assign it the number 6,323,527,192.\n",
    "* float_pi assign it the number 3.14159\n",
    "* my_double assign it a fractional number with 13 decimals.\n",
    "* decimal_a assign it a fractional number with 20 decimals.\n",
    "* big_griz assign it the value G (uppercase).\n",
    "* my_hello assign it a greeting to the entire class.\n",
    "* my_goodbye assign it a farewell to your class.\n",
    "\n",
    "## Single Line Comments\n",
    "\n",
    "At the end of each variable, on the same line, place a single-line comment with a short description of each variable. For example, it would look like this:\n",
    "\n",
    "```\n",
    "new_double = 38.936921934     # A double with 9 decimal places\n",
    "```\n",
    "\n",
    "## Print Output\n",
    "\n",
    "Now that you have assigned values to your variables, let's print them. Output each variable individually.\n",
    "\n",
    "## Type Conversion\n",
    "\n",
    "The last task you have for this lab involves type conversion. Create new variables with the following types, names, and values. Use an explicit type conversion.\n",
    "\n",
    "* `int` named my_new_int with a number between 1 and 20, inclusive.\n",
    "* `float` named float_b with value 3.14159.\n",
    "  \n",
    "Output both variables. \n",
    "\n",
    "---"
   ]
  },
  {
   "cell_type": "code",
   "execution_count": 3,
   "id": "0476bfa4-a3a1-4db8-b3bb-153cf88260e7",
   "metadata": {},
   "outputs": [],
   "source": [
    "my_int = 8  # An integer between 1 and 20\n",
    "long_a = 6323527192  # The long integer 6,323,527,192\n",
    "float_pi = 3.14159  # A float representing pi\n",
    "my_double = 0.1234567890123  # A fractional number with 13 decimals\n",
    "decimal_a = 0.12345678901234567890  # A fractional number with 20 decimals (note: Python may round this)\n",
    "big_griz = \"G\"  # The uppercase letter G\n",
    "my_hello = \"Hello, class! Welcome to our session.\"  # A greeting to the entire class\n",
    "my_goodbye = \"Goodbye, class! See you next time.\"  # A farewell to the class\n"
   ]
  },
  {
   "cell_type": "code",
   "execution_count": 4,
   "id": "7b1487f1-b46c-42d6-a5a9-bd7d9aabc050",
   "metadata": {},
   "outputs": [
    {
     "name": "stdout",
     "output_type": "stream",
     "text": [
      "8\n",
      "6323527192\n",
      "3.14159\n",
      "0.1234567890123\n",
      "0.12345678901234568\n",
      "G\n",
      "Hello, class! Welcome to our session.\n",
      "Goodbye, class! See you next time.\n"
     ]
    }
   ],
   "source": [
    "print(my_int)\n",
    "print(long_a)\n",
    "print(float_pi)\n",
    "print(my_double)\n",
    "print(decimal_a)\n",
    "print(big_griz)\n",
    "print(my_hello)\n",
    "print(my_goodbye)\n"
   ]
  },
  {
   "cell_type": "markdown",
   "id": "ed89f011-c30e-46e3-b8b3-c7d120690100",
   "metadata": {},
   "source": [
    "my_new_int = int(\"10\")  # Explicitly converting the string \"10\" to an int (between 1 and 20)\n",
    "float_b = float(\"3.14159\")  # Explicitly converting the string \"3.14159\" to a float\n",
    "\n",
    "print(my_new_int)\n",
    "print(float_b)\n"
   ]
  },
  {
   "cell_type": "code",
   "execution_count": null,
   "id": "e2682fcb-5dc5-4c40-af5b-3ec433c8b37e",
   "metadata": {},
   "outputs": [],
   "source": [
    "# I used ChatGPT o3-mini-high for this assignment. Apparently the 03-mini-high GPT doesn't allow for link sharing, which is news to me.\n"
   ]
  }
 ],
 "metadata": {
  "kernelspec": {
   "display_name": "Python 3 (ipykernel)",
   "language": "python",
   "name": "python3"
  },
  "language_info": {
   "codemirror_mode": {
    "name": "ipython",
    "version": 3
   },
   "file_extension": ".py",
   "mimetype": "text/x-python",
   "name": "python",
   "nbconvert_exporter": "python",
   "pygments_lexer": "ipython3",
   "version": "3.12.7"
  }
 },
 "nbformat": 4,
 "nbformat_minor": 5
}
