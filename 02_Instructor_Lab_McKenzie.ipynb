{
  "metadata": {
    "kernelspec": {
      "name": "python",
      "display_name": "Python (Pyodide)",
      "language": "python"
    },
    "language_info": {
      "codemirror_mode": {
        "name": "python",
        "version": 3
      },
      "file_extension": ".py",
      "mimetype": "text/x-python",
      "name": "python",
      "nbconvert_exporter": "python",
      "pygments_lexer": "ipython3",
      "version": "3.8"
    }
  },
  "nbformat_minor": 5,
  "nbformat": 4,
  "cells": [
    {
      "id": "a04ab6cf-9b6c-4917-ba35-3d1d32633d9a",
      "cell_type": "markdown",
      "source": "UM MSBA - BGEN 632\n\n# Week 2 Instructor-led Lab\n\nIn this assignment you will create basic code showcasing the concepts you learned about in the tutorial. \n\n**Create Code cells below this Markdown cell to complete the assignment. Write and run your code. To get full points, your submitted notebook must include saved output in addition to written code.** \n\nFor this assignment, you are not required to create any Markdown cells but you are encouraged to do so to improve the aesthetics and organization of your lab submission. \n\nAs stated in the syllabus, you <ins>must</ins> include information about your use of online resources to complete assignments, including chatbots like ChatGPT. You can include reference information within your notebooks and/or within separate files pushed to your repo on GitHub. Failure to disclose the use of online resources is a violation of course policy.\n\n## Assigning Values\n\nFor this portion of the assignment, you will create variables in your notebook. You will assign a value to each variable. Please perform the following tasks and create each variable by assigning the following values:\n\n* my_int assign it a number between 1 and 20, inclusive.\n* long_a assign it the number 6,323,527,192.\n* float_pi assign it the number 3.14159\n* my_double assign it a fractional number with 13 decimals.\n* decimal_a assign it a fractional number with 20 decimals.\n* big_griz assign it the value G (uppercase).\n* my_hello assign it a greeting to the entire class.\n* my_goodbye assign it a farewell to your class.\n\n## Single Line Comments\n\nAt the end of each variable, on the same line, place a single-line comment with a short description of each variable. For example, it would look like this:\n\n```\nnew_double = 38.936921934     # A double with 9 decimal places\n```\n\n## Print Output\n\nNow that you have assigned values to your variables, let's print them. Output each variable individually.\n\n## Type Conversion\n\nThe last task you have for this lab involves type conversion. Create new variables with the following types, names, and values. Use an explicit type conversion.\n\n* `int` named my_new_int with a number between 1 and 20, inclusive.\n* `float` named float_b with value 3.14159.\n  \nOutput both variables. \n\n---",
      "metadata": {
        "editable": true,
        "slideshow": {
          "slide_type": ""
        },
        "tags": []
      }
    },
    {
      "id": "0476bfa4-a3a1-4db8-b3bb-153cf88260e7",
      "cell_type": "code",
      "source": "my_int = 8  # An integer between 1 and 20\nlong_a = 6323527192  # The long integer 6,323,527,192\nfloat_pi = 3.14159  # A float representing pi\nmy_double = 0.1234567890123  # A fractional number with 13 decimals\ndecimal_a = 0.12345678901234567890  # A fractional number with 20 decimals (note: Python may round this)\nbig_griz = \"G\"  # The uppercase letter G\nmy_hello = \"Hello, class! Welcome to our session.\"  # A greeting to the entire class\nmy_goodbye = \"Goodbye, class! See you next time.\"  # A farewell to the class\n",
      "metadata": {
        "trusted": true
      },
      "outputs": [],
      "execution_count": 3
    },
    {
      "id": "7b1487f1-b46c-42d6-a5a9-bd7d9aabc050",
      "cell_type": "code",
      "source": "print(my_int)\nprint(long_a)\nprint(float_pi)\nprint(my_double)\nprint(decimal_a)\nprint(big_griz)\nprint(my_hello)\nprint(my_goodbye)\n",
      "metadata": {
        "trusted": true
      },
      "outputs": [
        {
          "name": "stdout",
          "output_type": "stream",
          "text": "8\n6323527192\n3.14159\n0.1234567890123\n0.12345678901234568\nG\nHello, class! Welcome to our session.\nGoodbye, class! See you next time.\n"
        }
      ],
      "execution_count": 4
    },
    {
      "id": "40ed442b-eb49-4850-a2ee-54b5854f9da6",
      "cell_type": "code",
      "source": "my_new_int = int(\"10\")  # Explicitly converting the string \"10\" to an int (between 1 and 20)\nfloat_b = float(\"3.14159\")  # Explicitly converting the string \"3.14159\" to a float\n\nprint(my_new_int)\nprint(float_b)\n",
      "metadata": {
        "trusted": true
      },
      "outputs": [
        {
          "name": "stdout",
          "output_type": "stream",
          "text": "10\n3.14159\n"
        }
      ],
      "execution_count": 5
    }
  ]
}