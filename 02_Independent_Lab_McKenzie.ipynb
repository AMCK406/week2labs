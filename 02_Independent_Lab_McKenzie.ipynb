{
 "cells": [
  {
   "cell_type": "markdown",
   "id": "50f45054-bf87-4c05-b343-b11d8007826f",
   "metadata": {},
   "source": [
    "# Week 2 Independent Lab: Celsius to Fahrenheit Converter\n",
    "\n",
    "**Course Information:** University of Montana - Masters of Science in Business Analytics - BGEN632  \n",
    "**Assignment Name:** Week 2 Independent Lab  \n",
    "**Notebook Author Name:** Alex McKenzie  \n",
    "**Submission Date:** March 9, 2025\n",
    "\n",
    "Welcome to my Fahrenheit to Celsius converter notebook!"
   ]
  },
  {
   "cell_type": "markdown",
   "id": "7584f3e2-adc0-49e6-abef-1a0295b5ad0a",
   "metadata": {},
   "source": [
    "celsius = 0.0  # initial value for Celsius\n",
    "fahrenheit = 0.0  # initial value for Fahrenheit\n"
   ]
  },
  {
   "cell_type": "markdown",
   "id": "0eecd2a5-8af1-4195-8814-74b7791f8160",
   "metadata": {},
   "source": [
    "# I am converting the user input to a float because temperature values in Celsius can be fractional (for example, 36.5°C). Using a float ensures that the conversion is accurate and can handle decimals, which an integer type would not."
   ]
  },
  {
   "cell_type": "code",
   "execution_count": 20,
   "id": "10a5d7b3-fa91-4242-971c-9ff56df8d610",
   "metadata": {},
   "outputs": [
    {
     "name": "stdin",
     "output_type": "stream",
     "text": [
      "Please provide a value, in Celsius, to convert:\n",
      " 37\n"
     ]
    }
   ],
   "source": [
    "### text = float(input(\"Please provide a value, in Celsius, to convert:\\n\"))\n"
   ]
  },
  {
   "cell_type": "code",
   "execution_count": 21,
   "id": "b0f82d90-2d1a-48b1-9567-244d8fb54cf1",
   "metadata": {},
   "outputs": [
    {
     "name": "stdout",
     "output_type": "stream",
     "text": [
      "100.0 degrees celsius is 212.0 degrees fahrenheit.\n"
     ]
    }
   ],
   "source": [
    "print(f\"{celsius:.1f} degrees celsius is {fahrenheit:.1f} degrees fahrenheit.\")\n"
   ]
  },
  {
   "cell_type": "code",
   "execution_count": 22,
   "id": "84d09766-ffe5-4fca-9ea7-335b88258422",
   "metadata": {
    "scrolled": true
   },
   "outputs": [
    {
     "name": "stdin",
     "output_type": "stream",
     "text": [
      "Please provide a value, in Celsius, to convert:\n",
      " 37\n"
     ]
    }
   ],
   "source": [
    "text = float(input(\"Please provide a value, in Celsius, to convert:\\n\"))\n",
    "celsius = text\n"
   ]
  },
  {
   "cell_type": "code",
   "execution_count": 23,
   "id": "2ac18a64-3b21-4b92-a5e4-50ddaab9d9af",
   "metadata": {},
   "outputs": [
    {
     "name": "stdout",
     "output_type": "stream",
     "text": [
      "37.0 degrees celsius is 98.6 degrees fahrenheit.\n"
     ]
    }
   ],
   "source": [
    "fahrenheit = (9/5) * celsius + 32\n",
    "print(f\"{celsius:.1f} degrees celsius is {fahrenheit:.1f} degrees fahrenheit.\")\n"
   ]
  },
  {
   "cell_type": "code",
   "execution_count": 24,
   "id": "d6edc79f-fe60-481c-a7ab-73a4a1704cf2",
   "metadata": {},
   "outputs": [],
   "source": [
    "# text = float(input(\"Please provide a value, in Celsius, to convert:\\n\"))\n",
    "celsius = text\n"
   ]
  },
  {
   "cell_type": "code",
   "execution_count": 25,
   "id": "8739ca45-72f8-4e52-9692-1487817bbe34",
   "metadata": {},
   "outputs": [
    {
     "name": "stdout",
     "output_type": "stream",
     "text": [
      "37.0 degrees celsius is 98.6 degrees fahrenheit.\n"
     ]
    }
   ],
   "source": [
    "fahrenheit = (9/5) * celsius + 32\n",
    "print(f\"{celsius:.1f} degrees celsius is {fahrenheit:.1f} degrees fahrenheit.\")\n"
   ]
  },
  {
   "cell_type": "code",
   "execution_count": 26,
   "id": "ea50ea82-ee7c-4d68-af23-0059e726b5c8",
   "metadata": {},
   "outputs": [
    {
     "name": "stdout",
     "output_type": "stream",
     "text": [
      "int_fahrenheit: 98\n",
      "Data type of int_fahrenheit: <class 'int'>\n"
     ]
    }
   ],
   "source": [
    "int_fahrenheit = int(fahrenheit)\n",
    "print(\"int_fahrenheit:\", int_fahrenheit)\n",
    "print(\"Data type of int_fahrenheit:\", type(int_fahrenheit))\n"
   ]
  },
  {
   "cell_type": "markdown",
   "id": "dd69ae5e-eb65-4e3a-bc2d-9fe70cf6a48a",
   "metadata": {},
   "source": [
    "# I used ChatGPT o3-mini-high model to compl"
   ]
  }
 ],
 "metadata": {
  "kernelspec": {
   "display_name": "Python 3 (ipykernel)",
   "language": "python",
   "name": "python3"
  },
  "language_info": {
   "codemirror_mode": {
    "name": "ipython",
    "version": 3
   },
   "file_extension": ".py",
   "mimetype": "text/x-python",
   "name": "python",
   "nbconvert_exporter": "python",
   "pygments_lexer": "ipython3",
   "version": "3.12.7"
  }
 },
 "nbformat": 4,
 "nbformat_minor": 5
}
