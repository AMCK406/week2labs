{
 "cells": [
  {
   "cell_type": "markdown",
   "id": "1a9007d4-be75-48db-808d-109eafa9d5d7",
   "metadata": {},
   "source": [
    "# Week 2 Independent Lab: Celsius to Fahrenheit Converter\n",
    "\n",
    "**Course Information:** University of Montana - Masters of Science in Business Analytics - BGEN632  \n",
    "**Assignment Name:** Week 2 Independent Lab  \n",
    "**Notebook Author Name:** Alex McKenzie  \n",
    "**Submission Date:** March 9, 2025\n",
    "\n",
    "Welcome to my Fahrenheit to Celsius converter notebook!"
   ]
  },
  {
   "cell_type": "code",
   "execution_count": 2,
   "id": "564f0031-6432-4b24-a226-cc0c1e98516a",
   "metadata": {},
   "outputs": [],
   "source": [
    "celsius = 0.0  # initial value for Celsius\n",
    "fahrenheit = 0.0  # initial value for Fahrenheit\n"
   ]
  },
  {
   "cell_type": "markdown",
   "id": "1f50e7a7-fa10-43a3-adeb-9fbccbe470b8",
   "metadata": {},
   "source": [
    "### Pseudocode for the above would be something like:\n",
    "\n",
    "SET Celsius to 0.0\n",
    "\n",
    "SET Fahrenheit to 0.0"
   ]
  },
  {
   "cell_type": "markdown",
   "id": "3f28d67c-e557-4128-a3c0-7e85dd8bc311",
   "metadata": {},
   "source": [
    "#### I am converting the user input to a float because temperature values in Celsius can be fractional (for example, 36.5°C). Using a float ensures that the conversion is accurate and can handle decimals, which an integer type would not."
   ]
  },
  {
   "cell_type": "markdown",
   "id": "f1dbf013-be0e-479c-912f-b858aaba82f9",
   "metadata": {},
   "source": [
    "#### In my original submission, my font in the prior markdown was much too big. Here's I've realized I can make it smaller by increasing the number of \"pound signs.\""
   ]
  },
  {
   "cell_type": "code",
   "execution_count": 3,
   "id": "10a5d7b3-fa91-4242-971c-9ff56df8d610",
   "metadata": {},
   "outputs": [],
   "source": [
    "### text = float(input(\"Please provide a value, in Celsius, to convert:\\n\"))\n"
   ]
  },
  {
   "cell_type": "markdown",
   "id": "6a1cd9de-4d61-4683-914c-fc815b269ef0",
   "metadata": {},
   "source": [
    "#### I could pseudocode the above with something like:\n",
    "\n",
    "PRINT \"Please provide a value, in Celsius, to convert:\"\n",
    "\n",
    "GET input from user\n",
    "\n",
    "CONVERT input to a floating-point number\n",
    "\n",
    "SAVE input as text"
   ]
  },
  {
   "cell_type": "code",
   "execution_count": 4,
   "id": "b0f82d90-2d1a-48b1-9567-244d8fb54cf1",
   "metadata": {},
   "outputs": [
    {
     "name": "stdout",
     "output_type": "stream",
     "text": [
      "0.0 degrees celsius is 0.0 degrees fahrenheit.\n"
     ]
    }
   ],
   "source": [
    "print(f\"{celsius:.1f} degrees celsius is {fahrenheit:.1f} degrees fahrenheit.\")\n"
   ]
  },
  {
   "cell_type": "code",
   "execution_count": 22,
   "id": "84d09766-ffe5-4fca-9ea7-335b88258422",
   "metadata": {
    "scrolled": true
   },
   "outputs": [
    {
     "name": "stdin",
     "output_type": "stream",
     "text": [
      "Please provide a value, in Celsius, to convert:\n",
      " 37\n"
     ]
    }
   ],
   "source": [
    "text = float(input(\"Please provide a value, in Celsius, to convert:\\n\"))\n",
    "celsius = text\n"
   ]
  },
  {
   "cell_type": "markdown",
   "id": "0dc62739-f049-42ce-88b8-00dede2686b6",
   "metadata": {},
   "source": [
    "#### I dislike how the font for the prompt above is small; it's easy to miss. I inquired with ChatGPT about change the font size, and it suggested my options were either to inject custom CSS, or to install IPython Widgets. I'm surprised there's not a readily available way to do this, when I can change the font size in markdown cells."
   ]
  },
  {
   "cell_type": "code",
   "execution_count": 23,
   "id": "2ac18a64-3b21-4b92-a5e4-50ddaab9d9af",
   "metadata": {},
   "outputs": [
    {
     "name": "stdout",
     "output_type": "stream",
     "text": [
      "37.0 degrees celsius is 98.6 degrees fahrenheit.\n"
     ]
    }
   ],
   "source": [
    "fahrenheit = (9/5) * celsius + 32\n",
    "print(f\"{celsius:.1f} degrees celsius is {fahrenheit:.1f} degrees fahrenheit.\")\n"
   ]
  },
  {
   "cell_type": "code",
   "execution_count": 24,
   "id": "d6edc79f-fe60-481c-a7ab-73a4a1704cf2",
   "metadata": {},
   "outputs": [],
   "source": [
    "# text = float(input(\"Please provide a value, in Celsius, to convert:\\n\"))\n",
    "celsius = text\n"
   ]
  },
  {
   "cell_type": "code",
   "execution_count": 25,
   "id": "8739ca45-72f8-4e52-9692-1487817bbe34",
   "metadata": {},
   "outputs": [
    {
     "name": "stdout",
     "output_type": "stream",
     "text": [
      "37.0 degrees celsius is 98.6 degrees fahrenheit.\n"
     ]
    }
   ],
   "source": [
    "fahrenheit = (9/5) * celsius + 32\n",
    "print(f\"{celsius:.1f} degrees celsius is {fahrenheit:.1f} degrees fahrenheit.\")\n"
   ]
  },
  {
   "cell_type": "markdown",
   "id": "899ea19f-6f55-4dff-b0bb-bd65f991935f",
   "metadata": {},
   "source": [
    "#### I thought a pseudocode for the above cell would look something like this:\n",
    "\n",
    "DIVIDE 9 by 5\n",
    "\n",
    "ADD 32 to the result\n",
    "\n",
    "SET result to fahrenheit\n",
    "\n",
    "DISPLAY \"(result) degrees celsius is (result) degress fahrenheit.\"\n",
    "\n",
    "However, I was stuck on the DISPLAY line, so I put it to ChatGPT, and it said:\n",
    "\n",
    "SET conversion_factor to 9 divided by 5\n",
    "\n",
    "SET fahrenheit to (conversion_factor multiplied by celsius) plus 32\n",
    "\n",
    "DISPLAY celsius and fahrenheit (formatted to one decimal place) with the message: \n",
    "      \"<celsius>degrees celsius is <fahrenheit> degrees fahrenheit.\"\n",
    "\n",
    "So here I learned that it's preferred to use <x> instead of (x) when signaling that a calculated output should be used in a DISPLAY pseudocode command (which is technically a PRINT function in actual Python code)."
   ]
  },
  {
   "cell_type": "code",
   "execution_count": 26,
   "id": "ea50ea82-ee7c-4d68-af23-0059e726b5c8",
   "metadata": {},
   "outputs": [
    {
     "name": "stdout",
     "output_type": "stream",
     "text": [
      "int_fahrenheit: 98\n",
      "Data type of int_fahrenheit: <class 'int'>\n"
     ]
    }
   ],
   "source": [
    "int_fahrenheit = int(fahrenheit)\n",
    "print(\"int_fahrenheit:\", int_fahrenheit)\n",
    "print(\"Data type of int_fahrenheit:\", type(int_fahrenheit))\n"
   ]
  },
  {
   "cell_type": "markdown",
   "id": "dd69ae5e-eb65-4e3a-bc2d-9fe70cf6a48a",
   "metadata": {},
   "source": [
    "# I used ChatGPT o3-mini-high model to complete this assignment.\n",
    "\n",
    "This week, I had a very intentional interaction with ChatGPT in which I sought to be\n",
    "\n",
    "https://drive.google.com/file/d/1WVlCMMb1fxu9tHAKJLv94GMbjSgqXeZZ/view?usp=sharing"
   ]
  }
 ],
 "metadata": {
  "kernelspec": {
   "display_name": "Python 3 (ipykernel)",
   "language": "python",
   "name": "python3"
  },
  "language_info": {
   "codemirror_mode": {
    "name": "ipython",
    "version": 3
   },
   "file_extension": ".py",
   "mimetype": "text/x-python",
   "name": "python",
   "nbconvert_exporter": "python",
   "pygments_lexer": "ipython3",
   "version": "3.12.7"
  }
 },
 "nbformat": 4,
 "nbformat_minor": 5
}
